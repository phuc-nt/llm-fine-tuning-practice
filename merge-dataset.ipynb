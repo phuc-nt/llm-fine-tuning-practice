{
 "cells": [
  {
   "cell_type": "code",
   "execution_count": 1,
   "metadata": {},
   "outputs": [
    {
     "name": "stdout",
     "output_type": "stream",
     "text": [
      "Dataset đã được hợp nhất và lưu tại data-set/merged_dataset.json\n"
     ]
    }
   ],
   "source": [
    "import os\n",
    "import json\n",
    "\n",
    "# Đường dẫn đến thư mục chứa các file JSON\n",
    "directory = 'data-set/thich-nhat-hanh'\n",
    "merged_data = []\n",
    "\n",
    "# Lặp qua từng file trong thư mục\n",
    "for filename in os.listdir(directory):\n",
    "    if filename.endswith('.json'):\n",
    "        file_path = os.path.join(directory, filename)\n",
    "        \n",
    "        # Đọc nội dung file JSON\n",
    "        with open(file_path, 'r', encoding='utf-8') as f:\n",
    "            data = json.load(f)\n",
    "            merged_data.extend(data)  # Thêm dữ liệu vào danh sách hợp nhất\n",
    "\n",
    "# Đường dẫn để lưu file JSON hợp nhất\n",
    "merged_file_path = 'data-set/merged_dataset.json'\n",
    "\n",
    "# Ghi dữ liệu hợp nhất vào file JSON mới\n",
    "with open(merged_file_path, 'w', encoding='utf-8') as f:\n",
    "    json.dump(merged_data, f, ensure_ascii=False, indent=4)\n",
    "\n",
    "print(f'Dataset đã được hợp nhất và lưu tại {merged_file_path}')"
   ]
  }
 ],
 "metadata": {
  "kernelspec": {
   "display_name": "Python 3",
   "language": "python",
   "name": "python3"
  },
  "language_info": {
   "codemirror_mode": {
    "name": "ipython",
    "version": 3
   },
   "file_extension": ".py",
   "mimetype": "text/x-python",
   "name": "python",
   "nbconvert_exporter": "python",
   "pygments_lexer": "ipython3",
   "version": "3.11.10"
  }
 },
 "nbformat": 4,
 "nbformat_minor": 2
}
