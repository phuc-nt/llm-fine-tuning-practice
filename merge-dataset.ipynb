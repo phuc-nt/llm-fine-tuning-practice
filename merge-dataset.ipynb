{
 "cells": [
  {
   "cell_type": "code",
   "execution_count": null,
   "metadata": {
    "vscode": {
     "languageId": "plaintext"
    }
   },
   "outputs": [],
   "source": [
    "import os\n",
    "import json\n",
    "\n",
    "# Đường dẫn đến thư mục chứa các file JSON\n",
    "directory = 'data-set/thich-nhat-hanh'\n",
    "merged_data = []\n",
    "\n",
    "# Lặp qua từng file trong thư mục\n",
    "for filename in os.listdir(directory):\n",
    "    if filename.endswith('.json'):\n",
    "        file_path = os.path.join(directory, filename)\n",
    "        \n",
    "        # Đọc nội dung file JSON\n",
    "        with open(file_path, 'r', encoding='utf-8') as f:\n",
    "            data = json.load(f)\n",
    "            merged_data.extend(data)  # Thêm dữ liệu vào danh sách hợp nhất\n",
    "\n",
    "# Đường dẫn để lưu file JSON hợp nhất\n",
    "merged_file_path = 'data-set/merged_dataset.json'\n",
    "\n",
    "# Ghi dữ liệu hợp nhất vào file JSON mới\n",
    "with open(merged_file_path, 'w', encoding='utf-8') as f:\n",
    "    json.dump(merged_data, f, ensure_ascii=False, indent=4)\n",
    "\n",
    "print(f'Dataset đã được hợp nhất và lưu tại {merged_file_path}')"
   ]
  }
 ],
 "metadata": {
  "language_info": {
   "name": "python"
  }
 },
 "nbformat": 4,
 "nbformat_minor": 2
}
