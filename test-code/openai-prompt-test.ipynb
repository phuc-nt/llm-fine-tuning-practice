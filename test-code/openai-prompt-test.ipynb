{
 "cells": [
  {
   "cell_type": "code",
   "execution_count": 8,
   "metadata": {},
   "outputs": [
    {
     "name": "stdout",
     "output_type": "stream",
     "text": [
      "{\n",
      "    \"questions\": [\n",
      "        \"Chuyện gì đã xảy ra vào giai đoạn đầu thập niên 1990, trong bối cảnh người dân Việt Nam vẫn tiếp tục vượt biên trong khi bắt đầu đã có những người vượt biên trước đó trở về thăm nhà?\"\n",
      "    ],\n",
      "    \"answers\": [\n",
      "        \"Vào đầu thập niên 1990, Việt Nam chứng kiến một làn sóng vượt biên mới khi người dân, đặc biệt là từ các địa phương phía Bắc, vẫn tiếp tục tìm cách ra đi. Sự phong lưu của Việt Kiều, những người đã định cư ở nước ngoài và được trọng vọng bởi chính quyền và xã hội, đã kích thích thêm quyết tâm ra đi của nhiều người. Trong bối cảnh chính sách đổi mới chưa đủ thời gian để tạo ra sự ổn định, Liên Hiệp Quốc đã đưa ra chương trình \\\"tự nguyện hồi hương\\\", khuyến khích những thuyền nhân đồng ý quay trở lại Việt Nam bằng cách cung cấp trợ cấp 360 USD cho mỗi người. Điều này đã tạo ra một động lực mới cho những người vượt biên, vì họ có thể nhận được một khoản tiền không nhỏ khi hồi hương. Theo thống kê của UNHCR, hàng trăm ngàn người Việt đã định cư tại nhiều quốc gia trên thế giới, trong đó Mỹ là nơi đón nhận đông đảo nhất với 424.590 người. Thực tế này cho thấy, mặc dù có những người đã trở về, nhưng tâm lý ra đi vẫn còn mạnh mẽ trong xã hội Việt Nam, phản ánh những biến động chính trị và kinh tế của thời kỳ đó.\"\n",
      "    ]\n",
      "}\n",
      "Kết quả đã được lưu vào tệp result.txt.\n"
     ]
    }
   ],
   "source": [
    "import os\n",
    "import openai\n",
    "import json\n",
    "\n",
    "# Thiết lập API key\n",
    "openai.api_key = os.getenv('OPENAI_API_KEY')\n",
    "\n",
    "def generate_questions_answers(chunk):\n",
    "    \"\"\"Gửi chunk tới GPT-4o-mini để tạo câu hỏi và câu trả lời.\"\"\"\n",
    "    try:\n",
    "        response = openai.chat.completions.create(\n",
    "            model=\"gpt-4o-mini\",\n",
    "            messages=[\n",
    "                {\"role\": \"system\", \"content\": \"Bạn là một trợ lý hữu ích, am hiểu về Lịch sử Việt Nam.\"},\n",
    "                {\"role\": \"user\", \"content\": f\"\"\"\n",
    "                    Hãy trả về kết quả dưới dạng JSON như sau:\n",
    "                    {{\n",
    "                        \"questions\": [\n",
    "                            \"nội dung câu hỏi\"\n",
    "                        ],\n",
    "                        ,\n",
    "                        \"answers\": [\n",
    "                            \"nội dung câu trả lời\"\n",
    "                        ]\n",
    "                    }}\n",
    "                    Tạo 1 cặp câu hỏi và trả lời dựa vào \"nội dung đầy đủ\".\n",
    "                    Câu hỏi là: Chuyện gì đã xảy ra vào giai đoạn XXX, trong bối cảnh YYY? (thây XXX và YYY phù hợp với \"nội dung đầy đủ\").\n",
    "                    Câu trả lời là diễn giải lại \"nội dung đầy đủ\" một cách đầy đủ và mạch lạc, có bối cảnh, nguyên nhân, liệt kê các sự kiện chi tiết, kết quả và diễn giải.\n",
    "                    Hãy sử dụng tất cả các thông tin có thể, nội dung câu trả lời dài khoảng 1 phần 3 của \"nội dung đầy đủ\".\n",
    "                    \"Nội dung đầy đủ\": {chunk}\n",
    "                \"\"\"},\n",
    "            ],\n",
    "            temperature=0.5,\n",
    "            response_format={\"type\": \"json_object\"}\n",
    "        )\n",
    "\n",
    "        questions_answers_json = response.choices[0].message.content.strip()\n",
    "        return questions_answers_json\n",
    "\n",
    "    except Exception as e:\n",
    "        print(f\"Có lỗi xảy ra: {e}\")\n",
    "        return None\n",
    "\n",
    "# Ví dụ sử dụng\n",
    "if __name__ == \"__main__\":\n",
    "    # Đọc nội dung từ tệp\n",
    "    try:\n",
    "        with open(\"../test-output/input_context.txt\", \"r\", encoding=\"utf-8\") as file:\n",
    "            chunk = file.read().strip()  # Đọc nội dung và loại bỏ khoảng trắng thừa\n",
    "    except FileNotFoundError:\n",
    "        print(\"Tệp không tìm thấy. Vui lòng kiểm tra đường dẫn tệp.\")\n",
    "        chunk = \"\"\n",
    "\n",
    "    if chunk:  # Kiểm tra xem chunk có nội dung hay không\n",
    "        result = generate_questions_answers(chunk)\n",
    "\n",
    "        if result:\n",
    "            print(result)\n",
    "            # Lưu kết quả vào tệp\n",
    "            try:\n",
    "                with open(\"../test-output/result.txt\", \"w\", encoding=\"utf-8\") as result_file:\n",
    "                    result_file.write(result)  # Ghi kết quả vào tệp\n",
    "                print(\"Kết quả đã được lưu vào tệp result.txt.\")\n",
    "            except Exception as e:\n",
    "                print(f\"Đã xảy ra lỗi khi lưu kết quả: {e}\")\n",
    "        else:\n",
    "            print(\"Không có kết quả để lưu.\")\n",
    "    else:\n",
    "        print(\"Không có nội dung để xử lý.\")"
   ]
  }
 ],
 "metadata": {
  "kernelspec": {
   "display_name": "Python 3",
   "language": "python",
   "name": "python3"
  },
  "language_info": {
   "codemirror_mode": {
    "name": "ipython",
    "version": 3
   },
   "file_extension": ".py",
   "mimetype": "text/x-python",
   "name": "python",
   "nbconvert_exporter": "python",
   "pygments_lexer": "ipython3",
   "version": "3.11.10"
  }
 },
 "nbformat": 4,
 "nbformat_minor": 2
}
