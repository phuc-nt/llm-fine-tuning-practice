{
 "cells": [
  {
   "cell_type": "code",
   "execution_count": 1,
   "metadata": {},
   "outputs": [
    {
     "name": "stderr",
     "output_type": "stream",
     "text": [
      "/Users/phucnt/.pyenv/versions/3.11.10/lib/python3.11/site-packages/tqdm/auto.py:21: TqdmWarning: IProgress not found. Please update jupyter and ipywidgets. See https://ipywidgets.readthedocs.io/en/stable/user_install.html\n",
      "  from .autonotebook import tqdm as notebook_tqdm\n"
     ]
    },
    {
     "name": "stdout",
     "output_type": "stream",
     "text": [
      "Tổng số chunk đã tạo: 566\n",
      "Các chunk đã được lưu vào file: output_chunks.json\n"
     ]
    }
   ],
   "source": [
    "import os\n",
    "import json\n",
    "from underthesea import sent_tokenize\n",
    "from langchain_text_splitters import CharacterTextSplitter\n",
    "\n",
    "class VietnameseTextProcessor:\n",
    "    def __init__(self, max_length: int = 5000, overlap: int = 500):\n",
    "        self.max_length = max_length\n",
    "        self.overlap = overlap\n",
    "        \n",
    "    def read_text_files(self, input_folder: str) -> list:\n",
    "        \"\"\"Đọc tất cả các file văn bản trong thư mục.\"\"\"\n",
    "        all_texts = []\n",
    "        for filename in os.listdir(input_folder):\n",
    "            if filename.endswith('.txt'):\n",
    "                with open(os.path.join(input_folder, filename), 'r', encoding='utf-8') as f:\n",
    "                    all_texts.append(f.read())\n",
    "        return all_texts  # Trả về danh sách các văn bản\n",
    "\n",
    "    def preprocess_text(self, text: str) -> str:\n",
    "        \"\"\"Tiền xử lý văn bản: giữ nguyên định dạng và dấu câu.\"\"\"\n",
    "        text = text.replace('\\r\\n', '\\n')\n",
    "        text = '\\n'.join(line.strip() for line in text.split('\\n'))\n",
    "        return text\n",
    "    \n",
    "    def split_into_sentences(self, text: str) -> list:\n",
    "        \"\"\"Tách văn bản thành các câu sử dụng Underthesea.\"\"\"\n",
    "        sentences = sent_tokenize(text)\n",
    "        valid_sentences = [s.strip() for s in sentences if len(s.split()) > 5]\n",
    "        return valid_sentences\n",
    "    \n",
    "    def create_chunks(self, sentences: list) -> list:\n",
    "        \"\"\"Ghép các câu thành chunk sử dụng LangChain.\"\"\"\n",
    "        splitter = CharacterTextSplitter(\n",
    "            chunk_size=self.max_length,\n",
    "            chunk_overlap=self.overlap,\n",
    "            separator=\"\\n\",\n",
    "            length_function=len\n",
    "        )\n",
    "        text = '\\n'.join(sentences)\n",
    "        chunks = splitter.split_text(text)\n",
    "        return chunks\n",
    "\n",
    "    def save_to_file(self, chunks: list, output_file: str):\n",
    "        \"\"\"Lưu các chunk vào file .json.\"\"\"\n",
    "        with open(output_file, 'w', encoding='utf-8') as f:\n",
    "            json.dump(chunks, f, ensure_ascii=False, indent=4)  # Lưu dưới dạng JSON\n",
    "\n",
    "# Sử dụng lớp VietnameseTextProcessor\n",
    "if __name__ == \"__main__\":\n",
    "    processor = VietnameseTextProcessor()\n",
    "    input_folder = '../data-raw/Thich Nhat Hanh 2'\n",
    "    output_file = 'output_chunks.json'\n",
    "\n",
    "    texts = processor.read_text_files(input_folder)\n",
    "    all_sentences = []\n",
    "    for text in texts:\n",
    "        preprocessed_text = processor.preprocess_text(text)\n",
    "        sentences = processor.split_into_sentences(preprocessed_text)\n",
    "        all_sentences.extend(sentences)\n",
    "\n",
    "    chunks = processor.create_chunks(all_sentences)\n",
    "\n",
    "    # In ra tổng số chunk\n",
    "    print(f\"Tổng số chunk đã tạo: {len(chunks)}\")\n",
    "\n",
    "    # Lưu các chunk vào file JSON\n",
    "    processor.save_to_file(chunks, output_file)\n",
    "\n",
    "    print(f\"Các chunk đã được lưu vào file: {output_file}\")"
   ]
  }
 ],
 "metadata": {
  "kernelspec": {
   "display_name": "Python 3",
   "language": "python",
   "name": "python3"
  },
  "language_info": {
   "codemirror_mode": {
    "name": "ipython",
    "version": 3
   },
   "file_extension": ".py",
   "mimetype": "text/x-python",
   "name": "python",
   "nbconvert_exporter": "python",
   "pygments_lexer": "ipython3",
   "version": "3.11.10"
  }
 },
 "nbformat": 4,
 "nbformat_minor": 2
}
