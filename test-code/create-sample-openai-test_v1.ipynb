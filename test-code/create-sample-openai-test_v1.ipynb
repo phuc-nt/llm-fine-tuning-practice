{
 "cells": [
  {
   "cell_type": "code",
   "execution_count": null,
   "metadata": {},
   "outputs": [
    {
     "name": "stdout",
     "output_type": "stream",
     "text": [
      "{\n",
      "    \"questions\": [\n",
      "        \"Ông Vũ Đình Liệu đã đề nghị ai làm Tổng bí thư trong thư gửi Bộ Chính trị vào ngày 15-11-1995 và lý do gì được nêu ra?\",\n",
      "        \"Những ý kiến nào được ông Trần Lâm đưa ra trong thư gửi Bộ Chính trị liên quan đến vai trò của thủ tướng Võ Văn Kiệt?\",\n",
      "        \"Tại sao ông Hà Sĩ Phu bị công an đưa về đồn vào ngày 5-12-1995 và tài liệu nào đã bị phát hiện trong túi xách của ông?\",\n",
      "        \"Kết quả của cuộc lấy phiếu tín nhiệm lãnh đạo chủ chốt cho thấy điều gì về uy tín của Đỗ Mười và Võ Văn Kiệt?\",\n",
      "        \"Hội nghị 11 diễn ra vào thời điểm nào và có quyết định gì liên quan đến các uỷ viên Bộ Chính trị trên bảy mươi tuổi?\"\n",
      "    ]\n",
      "}\n",
      "Kết quả đã được lưu vào tệp result.txt.\n"
     ]
    }
   ],
   "source": [
    "import os\n",
    "import openai\n",
    "import json\n",
    "\n",
    "# Thiết lập API key\n",
    "openai.api_key = os.getenv('OPENAI_API_KEY')\n",
    "\n",
    "def generate_questions_answers(chunk):\n",
    "    \"\"\"Gửi chunk tới GPT-4o-mini để tạo câu hỏi và câu trả lời.\"\"\"\n",
    "    try:\n",
    "        response = openai.chat.completions.create(\n",
    "            model=\"gpt-4o-mini\",\n",
    "            messages=[\n",
    "                {\"role\": \"system\", \"content\": \"Bạn là một trợ lý hữu ích, am hiểu về Lịch sử Việt Nam.\"},\n",
    "                {\"role\": \"user\", \"content\": f\"\"\"\n",
    "                    Đây là đoạn trích từ sách về Lịch sử Việt Nam: {chunk}\n",
    "                    Từ đoạn trích, đóng vai người hỏi, hãy tạo 5 câu hỏi khác nhau để khai thác toàn bộ nội dung đoạn trích.\n",
    "                    Không dùng các câu hỏi mơ hồ như \"lúc này\", \"hoàn cảnh đó\", \"khi đấy\"... mà hãy hỏi với thông tin cụ thể.\n",
    "                    Hãy trả về kết quả dưới dạng JSON như sau:\n",
    "                    {{\n",
    "                        \"questions\": [\n",
    "                            \"Câu hỏi 1\",\n",
    "                            \"Câu hỏi 2\"\n",
    "                        ]\n",
    "                    }}\n",
    "                \"\"\"},\n",
    "            ],\n",
    "            temperature=0.5,\n",
    "            response_format={\"type\": \"json_object\"}\n",
    "        )\n",
    "\n",
    "        questions_answers_json = response.choices[0].message.content.strip()\n",
    "        return questions_answers_json\n",
    "\n",
    "    except Exception as e:\n",
    "        print(f\"Có lỗi xảy ra: {e}\")\n",
    "        return None\n",
    "\n",
    "# Ví dụ sử dụng\n",
    "if __name__ == \"__main__\":\n",
    "    # Đọc nội dung từ tệp\n",
    "    try:\n",
    "        with open(\"../test-output/input_context.txt\", \"r\", encoding=\"utf-8\") as file:\n",
    "            chunk = file.read().strip()  # Đọc nội dung và loại bỏ khoảng trắng thừa\n",
    "    except FileNotFoundError:\n",
    "        print(\"Tệp không tìm thấy. Vui lòng kiểm tra đường dẫn tệp.\")\n",
    "        chunk = \"\"\n",
    "\n",
    "    if chunk:  # Kiểm tra xem chunk có nội dung hay không\n",
    "        result = generate_questions_answers(chunk)\n",
    "\n",
    "        if result:\n",
    "            print(result)\n",
    "            # Lưu kết quả vào tệp\n",
    "            try:\n",
    "                with open(\"../test-output/result.txt\", \"w\", encoding=\"utf-8\") as result_file:\n",
    "                    result_file.write(result)  # Ghi kết quả vào tệp\n",
    "                print(\"Kết quả đã được lưu vào tệp result.txt.\")\n",
    "            except Exception as e:\n",
    "                print(f\"Đã xảy ra lỗi khi lưu kết quả: {e}\")\n",
    "        else:\n",
    "            print(\"Không có kết quả để lưu.\")\n",
    "    else:\n",
    "        print(\"Không có nội dung để xử lý.\")"
   ]
  }
 ],
 "metadata": {
  "kernelspec": {
   "display_name": "Python 3",
   "language": "python",
   "name": "python3"
  },
  "language_info": {
   "codemirror_mode": {
    "name": "ipython",
    "version": 3
   },
   "file_extension": ".py",
   "mimetype": "text/x-python",
   "name": "python",
   "nbconvert_exporter": "python",
   "pygments_lexer": "ipython3",
   "version": "3.11.10"
  }
 },
 "nbformat": 4,
 "nbformat_minor": 2
}
