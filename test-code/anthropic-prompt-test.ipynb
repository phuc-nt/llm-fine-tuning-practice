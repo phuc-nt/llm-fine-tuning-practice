{
 "cells": [
  {
   "cell_type": "code",
   "execution_count": 3,
   "metadata": {},
   "outputs": [
    {
     "name": "stdout",
     "output_type": "stream",
     "text": [
      "{\n",
      "    \"questions\": [\n",
      "        \"Diễn biến vụ việc của anh Đoàn Văn Vươn ở Hải Phòng như thế nào?\",\n",
      "        \"Tình hình thu hồi đất của người dân Việt Nam vào thời điểm năm 2012 như thế nào?\", \n",
      "        \"Kết quả kinh tế của Việt Nam sau giai đoạn đổi mới ban đầu ra sao?\",\n",
      "        \"Câu chuyện về Lý Mỹ - một nữ sinh bị cải tạo tư sản năm 1978 như thế nào?\",\n",
      "        \"Sự thật về chiếc xe tăng 390 trong ngày giải phóng 30/4/1975 là gì?\"\n",
      "    ],\n",
      "    \"answers\": [\n",
      "        \"Ngày 5-1-2012, tại huyện Tiên Lãng, Hải Phòng, chính quyền tiến hành cưỡng chế thu hồi 19,5 hecta đất đầm mà anh Vươn đã khai hoang và được giao từ năm 1997 với thời hạn 14 năm. Trong quá trình cưỡng chế, anh Vươn và những người nhà đã dùng súng chống trả, bắn bị thương 6 cán bộ công an và bộ đội. Sau sự việc, anh Vươn và 3 người em đã bị bắt và khởi tố với tội danh giết người.\",\n",
      "\n",
      "        \"Năm 2012, có nhiều vụ việc tranh chấp đất đai nổi cộm như vụ 160 hộ dân Văn Giang, Hưng Yên chống lại việc cưỡng chế thu hồi đất cho dự án Ecopark. Những vụ việc này cho thấy mâu thuẫn giữa chính quyền và người dân trong vấn đề quản lý và sử dụng đất đai.\",\n",
      "\n",
      "        \"Sau giai đoạn đổi mới ban đầu, kinh tế Việt Nam vẫn còn nhiều hạn chế. Năm 1995, GDP bình quân đầu người của Việt Nam thua xa các nước trong khu vực: thua Thái Lan 4,4 lần, thua Singapore 27 lần và thua Hàn Quốc 13 lần. Đến năm 2009, theo Báo cáo của Ngân hàng Thế giới, Việt Nam vẫn bị tụt hậu rất nhiều so với các nước láng giềng: 51 năm so với Indonesia, 95 năm so với Thái Lan và 158 năm so với Singapore.\",\n",
      "\n",
      "        \"Lý Mỹ là một nữ sinh điển hình bị cải tạo tư sản năm 1978. Gia đình cô có kế hoạch vượt biên nhưng cô đã ở lại Việt Nam. Trong thời gian khó khăn, cô phải đi bưng cà phê, dọn bàn để kiếm tiền học đại học. Cha cô đã gửi lại 10 lượng vàng cho người thân. Đến năm 1985, cô mới biết gia đình đã vượt biên thành công. 30 năm sau, Lý Mỹ trở thành một nhà tư sản, sở hữu 4 công ty kinh doanh cùng chồng là họa sỹ Nguyễn Văn Vinh.\",\n",
      "\n",
      "        \"Trong ngày giải phóng 30/4/1975, sự thật về chiếc xe tăng húc đổ cổng Dinh Độc Lập lâu nay vẫn bị méo mó. Ban đầu, báo chí loan tin xe 843 của Bùi Quang Thận là xe húc đổ cổng, nhưng thực tế là xe 390. Thiếu úy Lê Văn Phượng - người lái xe 390 - đã viết tường trình đúng sự thật, nhưng không được chú ý. Sau này, những người lính trên xe 390 đã âm thầm trở về cuộc sống thường nhật, không tranh giành danh vọng. Đây là một ví dụ điển hình về việc lịch sử đôi khi được viết lại bởi truyền thông.\"\n",
      "    ]\n",
      "}"
     ]
    }
   ],
   "source": [
    "import anthropic\n",
    "import os\n",
    "\n",
    "# Khởi tạo Anthropic client\n",
    "claude_client = anthropic.Anthropic(\n",
    "    api_key=os.getenv('ANTHROPIC_API_KEY')\n",
    ")\n",
    "\n",
    "with claude_client.messages.stream(\n",
    "    max_tokens=8192,\n",
    "    system=\"Bạn là người am hiểu lịch sử Việt Nam, luôn trả lời với đầy đủ và chi tiết, nhiều thông tin và khía cạnh nhất có thể.\",\n",
    "    messages=[\n",
    "        {\"role\": \"user\", \"content\": f\"\"\"\n",
    "        Hãy trả về kết quả dưới dạng JSON như sau:\n",
    "        {{\n",
    "            \"questions\": [\n",
    "                \"Câu hỏi 1\",\n",
    "                \"Câu hỏi 2\"\n",
    "            ],\n",
    "            ,\n",
    "            \"answers\": [\n",
    "                \"Câu trả lời 1\",\n",
    "                \"Câu trả lời 2\"\n",
    "            ]\n",
    "        }}\n",
    "        Tạo 5 cặp câu hỏi và trả lời dựa vào nội dung sau: \n",
    "        \"Ngày 5-1-2012, khi bị huyện Tiên Lãng, Hải Phòng, cưỡng chế thu hồi 19,5 hecta đất đầm do chính anh khai hoang, lấn biển và được huyện, năm 1997 giao với thời hạn 14 năm, người nhà anh Vươn đã dùng súng đạn ghém bắn bị thương 6 công an và bộ đội.\\nAnh Vươn và 3 người em sau đó đã bị bắt, bị khởi tố với tội danh giết người.\\nNgày 24-4-2012, 160 hộ dân Văn Giang, Hưng Yên, đã chống lệnh cưỡng chế thu hồi đất của họ giao cho dự án Ecopark.\\nNghị quyết 10 ban hành tháng 4-1988 trong năm ấy sản lượng lương thực tăng lên 2 triệu tấn.\\nNăm 1995, sau gần 10 năm đổi mới, GDP bình quân đầu người tính theo sức mua, Việt Nam vẫn thua Thái Lan 4,4 lần, thua Singapore 27 lần và thua Hàn Quốc 13 lần.\\nNăm 2009, theo Báo cáo Phát triển Việt Nam của Ngân hàng Thế giới, thu nhập bình quân đầu người của Việt Nam vẫn bị tụt hậu 51 năm so với Indonesia, 95 năm so với Thái Lan và 158 năm so với Singapore.\\nNhưng, “cơm, áo” chỉ là một phần nhu cầu của con người.\\nNgười dân Việt Nam còn xứng đáng được hưởng những giá trị mà người dân ở các quốc gia tự do đang được hưởng.\\nXem Chương III: Đánh Tư Sản.\\nMặc dù tuyên bố từ con để gây áp lực nhưng trước khi ra đi theo “Phương án II”, ông Lý Tích Chương đã tìm một người Hoa thân tín, gửi lại 10 lượng vàng, dặn cứ để cho Lý Mỹ nếm cực khổ, tới khi nào cô không chịu nổi nữa thì đưa số tiền ấy cho cô vượt biên.\\nKhi ngôi nhà cha mẹ để lại cho Lý Mỹ bị chiếm mất, thay vì đấu tranh để trả lại tài sản cho cô, Lý Mỹ lại được động viên, “lý tưởng Đoàn không cần tài sản”.\\nNhưng kể từ đó, cho dù được những đoàn viên cộng sản thế hệ 30-4 cố gắng quan tâm, Lý Mỹ bắt đầu khép mình, cô độc.\\nĐêm nào Lý Mỹ cũng phải sống trong nước mắt, phải sống trong những lúc đói quay quắt, những lúc bị đòi nợ… Chính tình thương yêu gia đình đã giúp Lý Mỹ vượt qua những cám dỗ.\\nCô tiểu thư con nhà tư sản ấy, mỗi tối lại đi bưng cà phê, đi dọn bàn kiếm tiền… để học xong đại học.\\nNăm 1985, không thấy Lý Mỹ vượt biên, người bạn của gia đình mới trao lại 10 cây vàng cho cô làm ăn.\\nĐến lúc ấy, Lý Mỹ mới biết, chuyến vượt biên của gia đình thành công.\\nNhưng trong thời gian ở trại tị nạn Malaysia, ông Lý Tích Chương lâm bịnh.\\nVào đúng hôm gia đình được chấp nhận đi định cư ở Úc, ông Chương mất.\\nTuy Lý Mỹ đã không bỏ Việt Nam ra đi như gia đình cô tiên liệu, nhưng cô cũng không trở thành một Pavel Korchagin (Nhân vật trong tiểu thuyết How the Steel Was Tempered của Nikolai Ostrovsky).\\nNhư một thanh thép đã được tôi, Lý Mỹ tự chọn lấy con đường cho mình.\\nCô nữ sinh điển hình trong chiến dịch cải tạo tư sản năm 1978, 30 năm sau, lại trở thành một nhà tư sản.\\nLý Mỹ hiện cùng chồng, hoạ sỹ Nguyễn Văn Vinh, sở hữu bốn công ty kinh doanh trong lĩnh vực truyền thông và xuất nhập khẩu.\\nThư gửi UBND các kỳ, tỉnh, huyện và làng, Hồ Chí Minh toàn tập, Nhà Xuất bản Chính trị Quốc gia 2000, tập 4, trang 64-66.\\nPhụ Lục 1: Sự Thật Lịch Sử Về Tăng 390 Và Tăng 384\\nTrong suốt hơn hai mươi năm kể từ ngày 30-4-1975, truyền thông trong nước đã mặc nhiên thừa nhận chiếc xe 843 của Bùi Quang Thận đã húc đổ cổng Dinhtrong khi sự thật chính là xe 390.\\nTheo Trung tá Bùi Văn Tùng: “Sau khi biết Thậnlà người cắm cờ, báo chí vây lấy cậu ấy.\\nChắc thằng Thận không nói, nhưng các nhà báo suy ra Thận cắm cờ thì 843 của Thận phải là xe vào trước.\\nKhi về tới Long Bình, anh em đã báo cáo lên, xe 390 húc đổ cổng Dinh, nhưng khi nghe báo nói xe 843 anh em cũng cho qua.\\nVề sau, do vụ “ai cắm cờ” đã khá bầm dập nên nhiều người nghĩ, cải chính làm chi cho phức tạp.\\nSau đó, Việt Nam lại xung đột với Trung Quốc mà chiếc 390 là T59, viện trợ của Trung Quốc, trong khi chiếc 843, T54, viện trợcủa Liên Xô nên càng không ai nghĩ tới việc làm rõ sự kiện này”.\\nLữ đoàn 203 có bốn chiếc tăng bị bắn cháy trước khi vào đến Dinh Độc Lập.\\nVào lúc 9 giờ sáng, những chiếc tăng của Lữ 203 đã bị chặn lại trong một trận đọ sức ác liệt giữa các chiến xa của hai bên.\\nTiểu đoàn trưởng Tiểu Đoàn 1, Ngô Quang Nhỡ, mở nắp tháp pháo nhô người ra chỉ huy đã bị bắn xuyên qua trán, chết khi chiến tranh kết thúc chỉ còn trong gang tấc.\\nChiếc tăng 866 khi chạy tới Thị Nghè cũng bị trúng đạn, một người chết ngay tại chỗ, một người bị thương nặng rớt xuốngđường.\\nNhững người lính vào giờ phút ấy nhận ra sống sót là tấm huân chương quan trọng nhất.\\nTrong suốt hai mươi năm, bốn người lính trên chiếc tăng 390 tiếp tục chiến đấu ở Campuchia, ở phía Bắc rồi lầm lũi mưu sinh chứ không hề tìm kiếm vinh quang.\\nKhi coi phim tài liệu, thấy Bùi Quang Thận cầm một lá cờ rất to, loại cờ không chứa trong những chiếc xe tăng tiến vào Dinh trong ngày 30-4, Thiếu úy Lê Văn Phượng lại tặc lưỡi nghĩ rằng, “lịch sử đôi khi được làm bằng báo chí”.\\nSáng 1-5-1975, khi rút về căn cứ Long Bình, Lê Văn Phượng đã viết tường trình đúng như những gì xảy ra.\\nAnh không biết cấp trên báo cáo ra sao để “lịch sử thành văn” chỉ nhắc đến chiếc xe của Bùi Quang Thận.\\nNhững thước phim, những bức ảnh “húc đổ cổng Dinh Độc Lập” được phục dựng đã thế chỗ sự thật và số phận của những người được nói đến thật cách biệt với những người im lặng.\\nBùi Quang Thận sau ngày 30-4 được điều về Bộ chỉ huy, còn Thiếu úy Lê Văn Phượng và ê-kíp xe 390 được điều lên biên giới Tây Ninh, chuẩn bị cho cuộc chiến ở Campuchia, rồi tháng 3-1979 lại được điều ra tham gia cuộc chiến tranh phía Bắc.\\nBa người trên chiếc xe tăng 390 xuất ngũ năm 1981, một người, Lê Văn Phượng, xuất ngũ năm 1986.\\nKể từ đó, bốn anh em không có điều kiện gặp nhau.\\nThượng úy Lê Văn Phượng ra quân, về quê; năm 1992 anh học hớt tóc, rồi dựng lều hành nghề ở bờ hào bên thành nhà Mạc, bị công an đuổi chạy lên, chạy xuống.\\nSau, người lính đã cho xe tăng nghiến lên cổng Dinh Độc lập ấy đã phải chạy về mở lán cắt tóc gần cổng Trường Sĩ quan Lục Quân ở Sơn Tây.\\nTuy không tranh dành quyền lợi ở chốn quan trường, nhưng trong thẳm sâu, người lính ấy cũng tự hào về những gì mà mình đã làm cho đất nước.\\nAnh đem câu chuyện “húc đổ cổng Dinh Độc Lập” ra kể với các con.\\nNhưng, ở trường, lịch sử được dạy không giống như những gì đã xảy ra.\",\n",
    "        Câu trả lời phải dài và đầy đủ nhất có thể, sử dụng hết mức các thông tin trong nội dung gốc, chỉ lược bỏ những phần thật sự không cần thiết.\n",
    "        Câu trả lời có thể lặp lại thông tin trong các câu trả lời khác.\n",
    "        \"\"\"},\n",
    "    ],\n",
    "    model=\"claude-3-5-haiku-latest\",\n",
    ") as stream:\n",
    "  for text in stream.text_stream:\n",
    "      print(text, end=\"\", flush=True)"
   ]
  }
 ],
 "metadata": {
  "kernelspec": {
   "display_name": "Python 3",
   "language": "python",
   "name": "python3"
  },
  "language_info": {
   "codemirror_mode": {
    "name": "ipython",
    "version": 3
   },
   "file_extension": ".py",
   "mimetype": "text/x-python",
   "name": "python",
   "nbconvert_exporter": "python",
   "pygments_lexer": "ipython3",
   "version": "3.11.10"
  }
 },
 "nbformat": 4,
 "nbformat_minor": 2
}
